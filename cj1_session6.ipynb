{
  "nbformat": 4,
  "nbformat_minor": 0,
  "metadata": {
    "colab": {
      "provenance": [],
      "authorship_tag": "ABX9TyOGZvRPAnn9DLCdZtMYstUz",
      "include_colab_link": true
    },
    "kernelspec": {
      "name": "python3",
      "display_name": "Python 3"
    },
    "language_info": {
      "name": "python"
    }
  },
  "cells": [
    {
      "cell_type": "markdown",
      "metadata": {
        "id": "view-in-github",
        "colab_type": "text"
      },
      "source": [
        "<a href=\"https://colab.research.google.com/github/EliasAlvarez40/astr-19/blob/main/cj1_session6.ipynb\" target=\"_parent\"><img src=\"https://colab.research.google.com/assets/colab-badge.svg\" alt=\"Open In Colab\"/></a>"
      ]
    },
    {
      "cell_type": "code",
      "execution_count": 1,
      "metadata": {
        "id": "0hnDn9Xq-L_Q"
      },
      "outputs": [],
      "source": [
        "import numpy as np\n",
        "from astropy.table import Table"
      ]
    },
    {
      "cell_type": "markdown",
      "source": [
        "Accepts number x and returns sin of x"
      ],
      "metadata": {
        "id": "TVHzWobz-mF3"
      }
    },
    {
      "cell_type": "code",
      "source": [
        "def sin_func(x):\n",
        "\tanswer = np.sin(x)\n",
        "\treturn answer"
      ],
      "metadata": {
        "id": "7DM4Xmfg_XEz"
      },
      "execution_count": 2,
      "outputs": []
    },
    {
      "cell_type": "markdown",
      "source": [
        "Accepts number x and returns cos of x"
      ],
      "metadata": {
        "id": "cuH4PA4X_oi1"
      }
    },
    {
      "cell_type": "code",
      "source": [
        "def cos_func(x):\n",
        "\tanswer = np.cos(x)\n",
        "\treturn answer"
      ],
      "metadata": {
        "id": "tfNqozuA_skl"
      },
      "execution_count": 3,
      "outputs": []
    },
    {
      "cell_type": "markdown",
      "source": [
        "Creates a table while x varies from 0 to 2pi over 1000 entries."
      ],
      "metadata": {
        "id": "xOZcMRgvANzM"
      }
    },
    {
      "cell_type": "code",
      "source": [
        "x = np.linspace(0,2*np.pi,1000)\n",
        "\n",
        "data_table = Table()\n",
        "data_table[\"x\"] = x\n",
        "data_table[\"sin(x)\"] = sin_func(x)\n",
        "data_table[\"cos(x)\"] = cos_func(x)\n",
        "\n",
        "data_table[\"x\"].format = \"{:.3f}\"\n",
        "data_table[\"sin(x)\"].format = \"{:.3f}\"\n",
        "data_table[\"cos(x)\"].format = \"{:.3f}\""
      ],
      "metadata": {
        "id": "ehwpsYSD_1lZ"
      },
      "execution_count": 4,
      "outputs": []
    },
    {
      "cell_type": "markdown",
      "source": [
        "Loop to print out the first 10 values of x, sin(x), and cos(x)"
      ],
      "metadata": {
        "id": "ACFtiEWEAoMH"
      }
    },
    {
      "cell_type": "code",
      "source": [
        "for i in range(10):\n",
        "\tprint(data_table[i])"
      ],
      "metadata": {
        "colab": {
          "base_uri": "https://localhost:8080/",
          "height": 0
        },
        "id": "BMcd7f9JA2iw",
        "outputId": "beb3d8f7-f571-46d8-ab53-3e6110087c7a"
      },
      "execution_count": 5,
      "outputs": [
        {
          "output_type": "stream",
          "name": "stdout",
          "text": [
            "  x   sin(x) cos(x)\n",
            "----- ------ ------\n",
            "0.000  0.000  1.000\n",
            "  x   sin(x) cos(x)\n",
            "----- ------ ------\n",
            "0.006  0.006  1.000\n",
            "  x   sin(x) cos(x)\n",
            "----- ------ ------\n",
            "0.013  0.013  1.000\n",
            "  x   sin(x) cos(x)\n",
            "----- ------ ------\n",
            "0.019  0.019  1.000\n",
            "  x   sin(x) cos(x)\n",
            "----- ------ ------\n",
            "0.025  0.025  1.000\n",
            "  x   sin(x) cos(x)\n",
            "----- ------ ------\n",
            "0.031  0.031  1.000\n",
            "  x   sin(x) cos(x)\n",
            "----- ------ ------\n",
            "0.038  0.038  0.999\n",
            "  x   sin(x) cos(x)\n",
            "----- ------ ------\n",
            "0.044  0.044  0.999\n",
            "  x   sin(x) cos(x)\n",
            "----- ------ ------\n",
            "0.050  0.050  0.999\n",
            "  x   sin(x) cos(x)\n",
            "----- ------ ------\n",
            "0.057  0.057  0.998\n"
          ]
        }
      ]
    }
  ]
}